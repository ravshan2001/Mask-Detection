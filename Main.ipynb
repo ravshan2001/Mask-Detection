{
 "cells": [
  {
   "cell_type": "code",
   "execution_count": 1,
   "id": "9cf06b84-0538-4f72-a917-06dc9f38ad3e",
   "metadata": {},
   "outputs": [],
   "source": [
    "import cv2\n",
    "from tensorflow.keras.models import load_model\n",
    "from tensorflow.keras.applications.mobilenet_v2 import preprocess_input\n",
    "import tensorflow as tf\n",
    "import numpy as np"
   ]
  },
  {
   "cell_type": "code",
   "execution_count": 2,
   "id": "7126e161-aaac-4ab4-aa4a-a2b9478a2bfd",
   "metadata": {},
   "outputs": [],
   "source": [
    "model = load_model(\"./models/mask_classificatioon.h5\")\n",
    "face_cascad_model = cv2.CascadeClassifier(\"./models/haarcascade_frontalface_default.xml\")"
   ]
  },
  {
   "cell_type": "code",
   "execution_count": 4,
   "id": "dd646eee-f02b-46b7-919a-30c35d30a90b",
   "metadata": {},
   "outputs": [],
   "source": [
    "video = cv2.VideoCapture(0)\n",
    "\n",
    "while True:\n",
    "    rat, frame = video.read()\n",
    "    \n",
    "    img_gray = cv2.cvtColor(frame, cv2.COLOR_BGR2GRAY)\n",
    "    faces = face_cascad_model.detectMultiScale(img_gray, 1.3, 4, minSize=(10, 10))\n",
    "    \n",
    "    if len(faces) != 0:\n",
    "        for x,y,w,h in faces:            \n",
    "            yuz_rasmi = frame[y:y+h, x:x+w, :]\n",
    "            yuz_rasmi = cv2.resize(yuz_rasmi,(224, 224), interpolation=cv2.INTER_CUBIC)\n",
    "            yuz_rasmi = preprocess_input(yuz_rasmi)\n",
    "            result = model.predict(np.expand_dims(yuz_rasmi, 0), verbose=0)\n",
    "\n",
    "            if np.round(result,2) > 0.50:   # np.round(result, 2) > 0.5\n",
    "                maska_statusi = 'Maska bor'                \n",
    "            else:\n",
    "                maska_statusi = 'Maska yo\\'q' \n",
    "            frame = cv2.putText(frame, maska_statusi, (x,y-15), cv2.FONT_HERSHEY_SIMPLEX, 1, (0,255,0), 2, cv2.LINE_AA)\n",
    "            \n",
    "            cv2.rectangle(frame, (x,y), (x+w,y+h), (0,0,255), 2)\n",
    "    else:\n",
    "        maska_statusi = \"Yuz aniqlanmadi !\"\n",
    "            \n",
    "    frame = cv2.putText(frame, maska_statusi, (x,y-15), cv2.FONT_HERSHEY_SIMPLEX, 1, (0,255,0), 2, cv2.LINE_AA)\n",
    "    cv2.imshow(\"face\", frame)\n",
    "    \n",
    "    if cv2.waitKey(1) & 0xFF == ord('q'):\n",
    "        break\n",
    "        \n",
    "video.release()\n",
    "cv2.destroyAllWindows()"
   ]
  },
  {
   "cell_type": "code",
   "execution_count": null,
   "id": "127370ed-5327-4951-bd69-d2be8d84dcca",
   "metadata": {},
   "outputs": [],
   "source": []
  }
 ],
 "metadata": {
  "kernelspec": {
   "display_name": "mask_env",
   "language": "python",
   "name": "mask_env"
  },
  "language_info": {
   "codemirror_mode": {
    "name": "ipython",
    "version": 3
   },
   "file_extension": ".py",
   "mimetype": "text/x-python",
   "name": "python",
   "nbconvert_exporter": "python",
   "pygments_lexer": "ipython3",
   "version": "3.10.9"
  }
 },
 "nbformat": 4,
 "nbformat_minor": 5
}
